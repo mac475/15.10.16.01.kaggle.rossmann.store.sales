{
 "cells": [
  {
   "cell_type": "markdown",
   "metadata": {},
   "source": [
    "#Forecast sales using store, promotion, and competitor data\n",
    "\n",
    "Rossmann operates over 3,000 drug stores in 7 European countries. Currently, \n",
    "Rossmann store managers are tasked with predicting their daily sales for up to six weeks in advance. Store sales are influenced by many factors, including promotions, competition, school and state holidays, seasonality, and locality. With thousands of individual managers predicting sales based on their unique circumstances, the accuracy of results can be quite varied.\n",
    "\n",
    "In their first Kaggle competition, Rossmann is challenging you to predict 6 weeks of daily sales for 1,115 stores located across Germany. Reliable sales forecasts enable store managers to create effective staff schedules that increase productivity and motivation. By helping Rossmann create a robust prediction model, you will help store managers stay focused on what’s most important to them: their customers and their teams! \n",
    "\n",
    " \n",
    "\n",
    "If you are interested in joining Rossmann at their headquarters near Hanover, Germany, please contact Mr. Frank König (Frank.Koenig {at} rossmann.de) Rossmann is currently recruiting data scientists at senior and entry-level positions.\n",
    "\n",
    "**Started:** 12:02 pm, Wednesday 30 September 2015 UTC \n",
    "\n",
    "**Ends:** 11:59 pm, Monday 14 December 2015 UTC (75 total days) \n",
    "\n",
    "**Points:** this competition awards standard ranking points \n",
    "\n",
    "**Tiers:** this competition counts towards tiers"
   ]
  },
  {
   "cell_type": "markdown",
   "metadata": {},
   "source": [
    "#Data Files\n",
    "\n",
    "File Name\tAvailable Formats\n",
    "sample_submission.csv\t.zip (55.25 kb)\n",
    "store.csv\t.zip (8.33 kb)\n",
    "test.csv\t.zip (143.25 kb)\n",
    "train.csv\t.zip (5.66 mb)\n",
    "You are provided with historical sales data for 1,115 Rossmann stores. The task is to forecast the \"Sales\" column for the test set. Note that some stores in the dataset were temporarily closed for refurbishment.\n",
    "\n",
    "###Files\n",
    "\n",
    "train.csv - historical data including Sales\n",
    "test.csv - historical data excluding Sales\n",
    "sample_submission.csv - a sample submission file in the correct format\n",
    "store.csv - supplemental information about the stores\n",
    "Data fields\n",
    "\n",
    "Most of the fields are self-explanatory. The following are descriptions for those that aren't.\n",
    "\n",
    "* Id - an Id that represents a (Store, Date) duple within the test set\n",
    "* Store - a unique Id for each store\n",
    "* Sales - the turnover for any given day (this is what you are predicting)\n",
    "* Customers - the number of customers on a given day\n",
    "* Open - an indicator for whether the store was open: 0 = closed, 1 = open\n",
    "* StateHoliday - indicates a state holiday. Normally all stores, with few exceptions, are closed on state holidays. Note that all schools are closed on public holidays and weekends. a = public holiday, b = Easter holiday, c = Christmas, 0 = None\n",
    "* SchoolHoliday - indicates if the (Store, Date) was affected by the closure of public schools\n",
    "* StoreType - differentiates between 4 different store models: a, b, c, d\n",
    "* Assortment - describes an assortment level: a = basic, b = extra, c = extended\n",
    "* CompetitionDistance - distance in meters to the nearest competitor store\n",
    "* CompetitionOpenSince[Month/Year] - gives the approximate year and month of the time the nearest competitor was opened\n",
    "* Promo - indicates whether a store is running a promo on that day\n",
    "* Promo2 - Promo2 is a continuing and consecutive promotion for some stores: 0 = store is not participating, 1 = store is participating\n",
    "* Promo2Since[Year/Week] - describes the year and calendar week when the store started participating in Promo2\n",
    "* PromoInterval - describes the consecutive intervals Promo2 is started, naming the months the promotion is started anew. E.g. \"Feb,May,Aug,Nov\" means each round starts in February, May, August, November of any given year for that store"
   ]
  },
  {
   "cell_type": "markdown",
   "metadata": {},
   "source": [
    "#Evaluation\n",
    "\n",
    "Submissions are evaluated on the Root Mean Square Percentage Error (RMSPE). The RMSPE is calculated as\n",
    "\n",
    "$$RMSPE = \\sqrt{ \\frac{1}{n} \\sum\\limits_{i = 1}^n \\left( \\frac{y_i - \\hat{y}_i}{y_i} \\right)^2}$$\n",
    "\n",
    "where $y_i$ denotes the sales of a single store on a single day and yhat_i denotes the corresponding prediction. Any day and store with 0 sales is ignored in scoring.\n",
    "\n",
    "Submission File\n",
    "\n",
    "The file should contain a header and have the following format:\n",
    "\n",
    "Id,Sales\n",
    "\n",
    "1,0\n",
    "\n",
    "2,0\n",
    "\n",
    "3,0\n",
    "\n",
    "etc."
   ]
  },
  {
   "cell_type": "markdown",
   "metadata": {},
   "source": [
    "#Competition Rules\n",
    "\n",
    "You may submit a maximum of 5 entries per day.\n",
    "You may select up to 2 final submissions for judging.\n",
    "Competition Timeline\n",
    "\n",
    "Start Date: 9/30/2015 12:02:03 PM UTC\n",
    "Merger Deadline: 12/7/2015 11:59:00 PM UTC\n",
    "First Submission Deadline: 12/7/2015 11:59:00 PM UTC\n",
    "End Date: 12/14/2015 11:59:00 PM UTC\n",
    "Use of publicly available external data is permitted. You must post any external data you use in the official competition forum.\n",
    "Use of Matlab or Excel is permitted for this competition."
   ]
  },
  {
   "cell_type": "markdown",
   "metadata": {},
   "source": [
    "#Prizes\n",
    "\n",
    "1st place - $15,000\n",
    "\n",
    "2nd place - $10,000\n",
    "\n",
    "3rd place - $5,000\n",
    "\n",
    "In addition, a single $5,000 reward will go to the team whose methodology is implemented by Rossmann. This award may be given to a team at any position on the leaderboard.\n",
    "Rossmann is interested in hiring top Kagglers from this competition. If you're interested in a position with Rossmann, you may append \"JOB\" next to your team name for consideration."
   ]
  }
 ],
 "metadata": {
  "kernelspec": {
   "display_name": "Python 3",
   "language": "python",
   "name": "python3"
  },
  "language_info": {
   "codemirror_mode": {
    "name": "ipython",
    "version": 3
   },
   "file_extension": ".py",
   "mimetype": "text/x-python",
   "name": "python",
   "nbconvert_exporter": "python",
   "pygments_lexer": "ipython3",
   "version": "3.4.3"
  }
 },
 "nbformat": 4,
 "nbformat_minor": 0
}
